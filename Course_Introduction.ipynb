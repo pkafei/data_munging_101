{
 "metadata": {
  "name": "",
  "signature": "sha256:2aae3d320e2127adc21b0327ae615af3df631fc605f9c82bf05a085669ec613c"
 },
 "nbformat": 3,
 "nbformat_minor": 0,
 "worksheets": [
  {
   "cells": [
    {
     "cell_type": "markdown",
     "metadata": {},
     "source": [
      "# O'Reilly Python Data Science Course"
     ]
    },
    {
     "cell_type": "code",
     "collapsed": false,
     "input": [],
     "language": "python",
     "metadata": {},
     "outputs": []
    },
    {
     "cell_type": "markdown",
     "metadata": {},
     "source": [
      "## Course Prerequisites\n",
      "\n",
      "* Familar with basic programming concepts \n",
      "* Don't worry if you don't have a background in statistics\n"
     ]
    },
    {
     "cell_type": "code",
     "collapsed": false,
     "input": [],
     "language": "python",
     "metadata": {},
     "outputs": []
    },
    {
     "cell_type": "markdown",
     "metadata": {},
     "source": [
      "### What will you learn from this video(what to expect):\n",
      "\n",
      "* Definition of data science\n",
      "* Where to find data \n",
      "* Different methods of analyzing and visualizing data "
     ]
    },
    {
     "cell_type": "code",
     "collapsed": false,
     "input": [],
     "language": "python",
     "metadata": {},
     "outputs": []
    },
    {
     "cell_type": "markdown",
     "metadata": {},
     "source": [
      "## Main Python packages that will be used:\n",
      "\n",
      "* Pandas\n",
      "* IPython\n",
      "* Matplotlib\n",
      "* Scikit-learn\n"
     ]
    },
    {
     "cell_type": "code",
     "collapsed": false,
     "input": [],
     "language": "python",
     "metadata": {},
     "outputs": []
    },
    {
     "cell_type": "markdown",
     "metadata": {},
     "source": [
      "Other Packages that You will use"
     ]
    },
    {
     "cell_type": "code",
     "collapsed": false,
     "input": [
      "pandas\n",
      "ipython\n",
      "matplotlib\n",
      "numpy\n"
     ],
     "language": "python",
     "metadata": {},
     "outputs": []
    }
   ],
   "metadata": {}
  }
 ]
}