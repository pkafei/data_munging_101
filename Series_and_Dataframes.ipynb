{
 "metadata": {
  "name": "",
  "signature": "sha256:4a9aacdb69c6b49a0f598c8356d711ef7bf9692a81ca805108537d5c0c5b02f9"
 },
 "nbformat": 3,
 "nbformat_minor": 0,
 "worksheets": [
  {
   "cells": [
    {
     "cell_type": "markdown",
     "metadata": {},
     "source": [
      "# Series vs Dataframes: Data Structures in Pandas"
     ]
    },
    {
     "cell_type": "code",
     "collapsed": false,
     "input": [],
     "language": "python",
     "metadata": {},
     "outputs": []
    },
    {
     "cell_type": "code",
     "collapsed": false,
     "input": [
      "## Import Pandas and other relevant packages. \n",
      "\n",
      "import pandas as pd # the pandas package\n",
      "from pandas import *\n",
      "randn = np.random.randn\n",
      "import numpy as np"
     ],
     "language": "python",
     "metadata": {},
     "outputs": []
    },
    {
     "cell_type": "code",
     "collapsed": false,
     "input": [],
     "language": "python",
     "metadata": {},
     "outputs": []
    },
    {
     "cell_type": "code",
     "collapsed": false,
     "input": [
      "## Series\n",
      "\n",
      "* One dimensional array with labels\n",
      "* Is a Numpy array"
     ],
     "language": "python",
     "metadata": {},
     "outputs": []
    },
    {
     "cell_type": "code",
     "collapsed": false,
     "input": [],
     "language": "python",
     "metadata": {},
     "outputs": []
    },
    {
     "cell_type": "code",
     "collapsed": false,
     "input": [
      "s = Series(randn(5), index=['a', 'b', 'c', 'd', 'e'])\n",
      "s"
     ],
     "language": "python",
     "metadata": {},
     "outputs": []
    },
    {
     "cell_type": "code",
     "collapsed": false,
     "input": [],
     "language": "python",
     "metadata": {},
     "outputs": []
    },
    {
     "cell_type": "markdown",
     "metadata": {},
     "source": [
      "## Dataframes\n",
      "\n",
      "* Two dimensional array\n",
      "* Represents data in a tabular fashion (like spreadsheets in Excel)\n",
      "* During the duration of the tutorial we will primarily work with dataframes"
     ]
    },
    {
     "cell_type": "code",
     "collapsed": false,
     "input": [],
     "language": "python",
     "metadata": {},
     "outputs": []
    },
    {
     "cell_type": "markdown",
     "metadata": {},
     "source": [
      "## Let's load the Maryland Unemployment Dataset into a Dataframe"
     ]
    },
    {
     "cell_type": "code",
     "collapsed": false,
     "input": [],
     "language": "python",
     "metadata": {},
     "outputs": []
    },
    {
     "cell_type": "code",
     "collapsed": false,
     "input": [
      "# Load the data into a dataframe\n",
      "md_employment = pd.read_csv(\"Employment_Figures.csv\")"
     ],
     "language": "python",
     "metadata": {},
     "outputs": []
    },
    {
     "cell_type": "code",
     "collapsed": false,
     "input": [],
     "language": "python",
     "metadata": {},
     "outputs": []
    },
    {
     "cell_type": "code",
     "collapsed": false,
     "input": [
      "# Let's explore the data\n",
      "md_employment.head(3)"
     ],
     "language": "python",
     "metadata": {},
     "outputs": [
      {
       "html": [
        "<div style=\"max-height:1000px;max-width:1500px;overflow:auto;\">\n",
        "<table border=\"1\" class=\"dataframe\">\n",
        "  <thead>\n",
        "    <tr style=\"text-align: right;\">\n",
        "      <th></th>\n",
        "      <th>Year</th>\n",
        "      <th>Month</th>\n",
        "      <th>National Unemployment Rate</th>\n",
        "      <th>Maryland Unemployment Rate</th>\n",
        "      <th>National Jobs Created/Lost</th>\n",
        "      <th>Maryland Jobs Created/Lost</th>\n",
        "      <th>National Jobs</th>\n",
        "      <th>Maryland Jobs</th>\n",
        "      <th>Maryland Civilian Labor Force</th>\n",
        "      <th>Maryland Employment</th>\n",
        "      <th>Maryland Unemployment</th>\n",
        "      <th>Maryland Job Growth Since Post Recession Bottom</th>\n",
        "      <th>Jobs Recovered Goal (to Reach Pre-Recession Peak)</th>\n",
        "      <th>% Jobs Recovered (Maryland)</th>\n",
        "    </tr>\n",
        "  </thead>\n",
        "  <tbody>\n",
        "    <tr>\n",
        "      <th>0</th>\n",
        "      <td> 2003</td>\n",
        "      <td> Jan-03</td>\n",
        "      <td> 5.8</td>\n",
        "      <td> 4.4</td>\n",
        "      <td>  89000</td>\n",
        "      <td> 3800</td>\n",
        "      <td> 130380000</td>\n",
        "      <td> 2481200</td>\n",
        "      <td> 2877486</td>\n",
        "      <td> 2751073</td>\n",
        "      <td> 126413</td>\n",
        "      <td>NaN</td>\n",
        "      <td>NaN</td>\n",
        "      <td> NaN</td>\n",
        "    </tr>\n",
        "    <tr>\n",
        "      <th>1</th>\n",
        "      <td> 2003</td>\n",
        "      <td> Feb-03</td>\n",
        "      <td> 5.9</td>\n",
        "      <td> 4.4</td>\n",
        "      <td>-158000</td>\n",
        "      <td>-8900</td>\n",
        "      <td> 130222000</td>\n",
        "      <td> 2472300</td>\n",
        "      <td> 2880667</td>\n",
        "      <td> 2753183</td>\n",
        "      <td> 127484</td>\n",
        "      <td>NaN</td>\n",
        "      <td>NaN</td>\n",
        "      <td> NaN</td>\n",
        "    </tr>\n",
        "    <tr>\n",
        "      <th>2</th>\n",
        "      <td> 2003</td>\n",
        "      <td> Mar-03</td>\n",
        "      <td> 5.9</td>\n",
        "      <td> 4.5</td>\n",
        "      <td>-215000</td>\n",
        "      <td> 1400</td>\n",
        "      <td> 130007000</td>\n",
        "      <td> 2473700</td>\n",
        "      <td> 2883634</td>\n",
        "      <td> 2754857</td>\n",
        "      <td> 128777</td>\n",
        "      <td>NaN</td>\n",
        "      <td>NaN</td>\n",
        "      <td> NaN</td>\n",
        "    </tr>\n",
        "  </tbody>\n",
        "</table>\n",
        "</div>"
       ],
       "metadata": {},
       "output_type": "pyout",
       "prompt_number": 20,
       "text": [
        "   Year   Month  National Unemployment Rate  Maryland Unemployment Rate  \\\n",
        "0  2003  Jan-03                         5.8                         4.4   \n",
        "1  2003  Feb-03                         5.9                         4.4   \n",
        "2  2003  Mar-03                         5.9                         4.5   \n",
        "\n",
        "   National Jobs Created/Lost  Maryland Jobs Created/Lost  National Jobs  \\\n",
        "0                       89000                        3800      130380000   \n",
        "1                     -158000                       -8900      130222000   \n",
        "2                     -215000                        1400      130007000   \n",
        "\n",
        "   Maryland Jobs  Maryland Civilian Labor Force  Maryland Employment  \\\n",
        "0        2481200                        2877486              2751073   \n",
        "1        2472300                        2880667              2753183   \n",
        "2        2473700                        2883634              2754857   \n",
        "\n",
        "   Maryland Unemployment  Maryland Job Growth Since Post Recession Bottom  \\\n",
        "0                 126413                                              NaN   \n",
        "1                 127484                                              NaN   \n",
        "2                 128777                                              NaN   \n",
        "\n",
        "   Jobs Recovered Goal (to Reach Pre-Recession Peak)  \\\n",
        "0                                                NaN   \n",
        "1                                                NaN   \n",
        "2                                                NaN   \n",
        "\n",
        "  % Jobs Recovered (Maryland)  \n",
        "0                         NaN  \n",
        "1                         NaN  \n",
        "2                         NaN  "
       ]
      }
     ],
     "prompt_number": 20
    },
    {
     "cell_type": "code",
     "collapsed": false,
     "input": [],
     "language": "python",
     "metadata": {},
     "outputs": []
    }
   ],
   "metadata": {}
  }
 ]
}