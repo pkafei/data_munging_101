{
 "metadata": {},
 "nbformat": 3,
 "nbformat_minor": 0,
 "worksheets": [
  {
   "cells": [
    {
     "cell_type": "markdown",
     "metadata": {},
     "source": [
      "# What is Data Science?\n",
      "(this section will include screen shots of urls with a voice over)\n"
     ]
    },
    {
     "cell_type": "markdown",
     "metadata": {},
     "source": [
      "## Outline (5 min)\n",
      "\n",
      "### Define what \"data science is\":\n",
      "\n",
      "http://www.mckinsey.com/insights/business_technology/big_data_the_next_frontier_for_innovation (applications of data science)\n",
      "* Future job market for data scientists (By 2018, the United States alone could face a shortage of 140,000 to 190,000 people with deep analytical skills)\n",
      "* Uses of data science in marketing\n",
      "* Implications of data science in health care\n",
      "\n",
      "http://www.ibm.com/developerworks/opensource/library/os-datascience/index.html?ca=drs(what is data science)\n",
      "* combinition of statistics, linear algebra, and computer science\n",
      "* Short introduction of R, and SPSS\n",
      "\n",
      "\n",
      "http://www.theguardian.com/news/datablog/2012/mar/02/data-scientist (what are the skills of a data scientist?)\n",
      "A discussion about the unique skills a data scientist must possess\n",
      "\n",
      "An explanation about the different definitions of what is a data scientist\n",
      "\"someone who can bridge the raw data and the analysis - and make it accessible. It's a democratising role; by bringing the data to the people, you make the world just a little bit better.\"\n",
      "Simon Rogers\n",
      "\n",
      "\"A data scientist is someone who blends, math, algorithms, and an understanding of human behavior with the ability to hack systems together to get answers to interesting human questions from data\"\n",
      "\n",
      "\n",
      "\n",
      "\n",
      "\n",
      "\n",
      "\n",
      "\n",
      "\n",
      "\n"
     ]
    },
    {
     "cell_type": "markdown",
     "metadata": {},
     "source": []
    },
    {
     "cell_type": "markdown",
     "metadata": {},
     "source": [
      "## What is Pandas?\n",
      "\n",
      "Pandas a Python Data and Statistical Analysis library. It is considered Python's Answer to R and was created by Wes McKinney. Pandas was created to allow developers to preprocess their data in the same language they build applications in. Pandas is used in a variety of arenas spanning from finance to government. The purpose of this tutorial is to use Pandas and other tools to get you up to speed in dealing with and becoming productive with raw data."
     ]
    },
    {
     "cell_type": "code",
     "collapsed": false,
     "input": [
      "\n",
      "\n",
      "\n"
     ],
     "language": "python",
     "metadata": {},
     "outputs": [],
     "prompt_number": ""
    }
   ],
   "metadata": {}
  }
 ]
}