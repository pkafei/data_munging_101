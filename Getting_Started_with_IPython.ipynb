{
 "metadata": {
  "name": "",
  "signature": "sha256:6bd1edd0898787f055d205386d1b74d327920b974ae99d47ac5688253c29feb4"
 },
 "nbformat": 3,
 "nbformat_minor": 0,
 "worksheets": [
  {
   "cells": [
    {
     "cell_type": "code",
     "collapsed": false,
     "input": [
      "from IPython.display import Image?\n",
      "i = Image(filename='/Users/portiaburton/clients/OpenBastion/DataScienceinPython/IPy_header.png')\n"
     ],
     "language": "python",
     "metadata": {},
     "outputs": []
    },
    {
     "cell_type": "code",
     "collapsed": false,
     "input": [
      "from IPython.display import Image"
     ],
     "language": "python",
     "metadata": {},
     "outputs": []
    },
    {
     "cell_type": "code",
     "collapsed": false,
     "input": [
      "from IPython.display import Image"
     ],
     "language": "python",
     "metadata": {},
     "outputs": []
    },
    {
     "cell_type": "markdown",
     "metadata": {},
     "source": [
      "# Basics of IPython\n"
     ]
    },
    {
     "cell_type": "code",
     "collapsed": false,
     "input": [],
     "language": "python",
     "metadata": {},
     "outputs": []
    },
    {
     "cell_type": "markdown",
     "metadata": {},
     "source": [
      "## Why IPython? (4 minutes)\n",
      "* Instant gratification: code and execute\n",
      "* Graphics and code lives in one space\n",
      "* Explicitly shows code workflow\n",
      "* Can share notebooks with others"
     ]
    },
    {
     "cell_type": "markdown",
     "metadata": {},
     "source": [
      "## How to Install Ipython onto your system using pip-install (2 minutes)"
     ]
    },
    {
     "cell_type": "code",
     "collapsed": false,
     "input": [
      "$ python get-pip.py #it is good practice to seperate your Python projects Using git\n",
      "$ pip install ipython"
     ],
     "language": "python",
     "metadata": {},
     "outputs": []
    },
    {
     "cell_type": "markdown",
     "metadata": {},
     "source": [
      "## Navigate to IPython\n",
      "* Open a terminal\n",
      "* Navigate to the path of your project\n",
      "* Type 'ipython notebook' at the prompt"
     ]
    },
    {
     "cell_type": "code",
     "collapsed": false,
     "input": [],
     "language": "python",
     "metadata": {},
     "outputs": []
    },
    {
     "cell_type": "markdown",
     "metadata": {},
     "source": [
      "## The Basics of Ipython\n",
      "* Go over a cell\n",
      "* Executing code"
     ]
    },
    {
     "cell_type": "code",
     "collapsed": false,
     "input": [],
     "language": "python",
     "metadata": {},
     "outputs": []
    },
    {
     "cell_type": "markdown",
     "metadata": {},
     "source": [
      "### Executing a cell of code (most commands start with a ctrl-m)\n",
      "* shift-return (execute and go to the next line)\n",
      "* ctrl return (execute only)"
     ]
    },
    {
     "cell_type": "code",
     "collapsed": false,
     "input": [
      "print(\"Hello World of Data\")"
     ],
     "language": "python",
     "metadata": {},
     "outputs": []
    },
    {
     "cell_type": "code",
     "collapsed": false,
     "input": [
      "5 * 29"
     ],
     "language": "python",
     "metadata": {},
     "outputs": []
    },
    {
     "cell_type": "markdown",
     "metadata": {},
     "source": [
      "### Basic navigation\n",
      "* Ctrl-m k (above)\n",
      "* Ctrl-m j (below)"
     ]
    },
    {
     "cell_type": "code",
     "collapsed": false,
     "input": [],
     "language": "python",
     "metadata": {},
     "outputs": []
    },
    {
     "cell_type": "markdown",
     "metadata": {},
     "source": [
      "### Basic Editing (5 minutes)\n",
      "* Ctrl-m b (add cell on the bottom of current cell)\n",
      "* Ctrl-m a (add a cell on the top of current cell)\n",
      "* Ctrl-m x (cut a cell)\n",
      "* Ctrl-m v (paste a cell)\n",
      "* Ctrl-m c (copy a cell)\n",
      "* Ctrl-m - (split a cell)"
     ]
    },
    {
     "cell_type": "code",
     "collapsed": true,
     "input": [
      "#We are going to experiment with basic navigation keys using the simple function greetings\n",
      "\n",
      "def greetings():\n",
      "    print(\"Greetings\" + \" \" + \"Guido\") \n",
      "    return greetings\n",
      "\n",
      "greetings()"
     ],
     "language": "python",
     "metadata": {},
     "outputs": []
    },
    {
     "cell_type": "code",
     "collapsed": false,
     "input": [],
     "language": "python",
     "metadata": {},
     "outputs": []
    },
    {
     "cell_type": "markdown",
     "metadata": {},
     "source": [
      "### Collection of Hot Keys"
     ]
    },
    {
     "cell_type": "code",
     "collapsed": false,
     "input": [
      "* Ctrl-m s (save notebook)\n",
      "* Ctrl-m y (code cell)\n",
      "* Ctrl-m m (Markdown cell)\n",
      "* Ctrl-m . (restart kernel)\n",
      "* Ctrl-m h (show all of the shortcut commands)"
     ],
     "language": "python",
     "metadata": {},
     "outputs": []
    },
    {
     "cell_type": "code",
     "collapsed": false,
     "input": [],
     "language": "python",
     "metadata": {},
     "outputs": []
    },
    {
     "cell_type": "markdown",
     "metadata": {},
     "source": [
      "### Magic Commands %"
     ]
    },
    {
     "cell_type": "code",
     "collapsed": false,
     "input": [
      "# Turning Python Debugging On or Off\n",
      "\n",
      "%pdb"
     ],
     "language": "python",
     "metadata": {},
     "outputs": []
    },
    {
     "cell_type": "code",
     "collapsed": false,
     "input": [
      "# Reference of Magic commands\n",
      "\n",
      "%quickref"
     ],
     "language": "python",
     "metadata": {},
     "outputs": []
    },
    {
     "cell_type": "code",
     "collapsed": false,
     "input": [],
     "language": "python",
     "metadata": {},
     "outputs": []
    },
    {
     "cell_type": "markdown",
     "metadata": {},
     "source": [
      "## IPython Tricks"
     ]
    },
    {
     "cell_type": "markdown",
     "metadata": {},
     "source": [
      "### Running Shell Commands"
     ]
    },
    {
     "cell_type": "code",
     "collapsed": false,
     "input": [
      "!ping www.theopenbastion.com"
     ],
     "language": "python",
     "metadata": {},
     "outputs": []
    },
    {
     "cell_type": "markdown",
     "metadata": {},
     "source": [
      "### Finding out more information about a class or function"
     ]
    },
    {
     "cell_type": "code",
     "collapsed": false,
     "input": [
      "import Image?"
     ],
     "language": "python",
     "metadata": {},
     "outputs": []
    },
    {
     "cell_type": "code",
     "collapsed": false,
     "input": [],
     "language": "python",
     "metadata": {},
     "outputs": []
    },
    {
     "cell_type": "markdown",
     "metadata": {},
     "source": [
      "## Using IPython and Git"
     ]
    },
    {
     "cell_type": "code",
     "collapsed": false,
     "input": [
      "%%bash\n",
      "git diff"
     ],
     "language": "python",
     "metadata": {},
     "outputs": []
    },
    {
     "cell_type": "code",
     "collapsed": false,
     "input": [
      "%%bash\n",
      "git status\n"
     ],
     "language": "python",
     "metadata": {},
     "outputs": []
    },
    {
     "cell_type": "code",
     "collapsed": false,
     "input": [
      "%%bash\n",
      "git add ../hello.py"
     ],
     "language": "python",
     "metadata": {},
     "outputs": []
    },
    {
     "cell_type": "code",
     "collapsed": false,
     "input": [
      "%%bash\n",
      "git commit -m \"Added hello.py\""
     ],
     "language": "python",
     "metadata": {},
     "outputs": []
    },
    {
     "cell_type": "markdown",
     "metadata": {},
     "source": [
      "### Learn more about Using IPython and Github\n",
      "http://nbviewer.ipython.org/github/fperez/reprosw/blob/master/Version%20Control.ipynb"
     ]
    },
    {
     "cell_type": "code",
     "collapsed": false,
     "input": [],
     "language": "python",
     "metadata": {},
     "outputs": []
    },
    {
     "cell_type": "markdown",
     "metadata": {},
     "source": [
      "References:\n",
      "* Installing Pip: http://pip.readthedocs.org/en/latest/installing.html\n",
      "* Magic Commands in Python: http://www.pythonforbeginners.com/basics/ipython-a-short-introduction\n",
      "http://pages.physics.cornell.edu/~myers/teaching/ComputationalMethods/python/ipython.html\n",
      "* Magic Command and IPython tricks: https://speakerdeck.com/nzpug/brenda-moon-exploring-science-on-twitter-with-ipython-notebook-and-python-pandas    \n",
      "* SSL and IPython: http://archive.ipython.org/media/PyCon2012-IPythonTutorial-Notebook.pdf\n",
      "        "
     ]
    }
   ],
   "metadata": {}
  }
 ]
}