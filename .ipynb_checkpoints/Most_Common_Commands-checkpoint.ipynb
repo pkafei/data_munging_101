{
 "metadata": {
  "name": "",
  "signature": "sha256:9b3f29102601bdf4a0db821a1abc221373b8600cbfedb2747fe1ae3428872ad1"
 },
 "nbformat": 3,
 "nbformat_minor": 0,
 "worksheets": [
  {
   "cells": [
    {
     "cell_type": "markdown",
     "metadata": {},
     "source": [
      "# Most Common Pandas Commands: Quick Tour of Pandas"
     ]
    },
    {
     "cell_type": "code",
     "collapsed": false,
     "input": [],
     "language": "python",
     "metadata": {},
     "outputs": [],
     "prompt_number": 1
    },
    {
     "cell_type": "code",
     "collapsed": false,
     "input": [
      "## Import Pandas, Numpy, and Matplotlib"
     ],
     "language": "python",
     "metadata": {},
     "outputs": []
    },
    {
     "cell_type": "code",
     "collapsed": false,
     "input": [],
     "language": "python",
     "metadata": {},
     "outputs": []
    },
    {
     "cell_type": "code",
     "collapsed": false,
     "input": [
      "## A Tour of Pandas: (3 min)\n",
      "\n",
      "### Import Pandas and other relevant packages. \n",
      "\n",
      "import pandas as pd # the pandas package\n",
      "import numpy as np\n",
      "import matplotlib.pyplot as plt #for graphics\n"
     ],
     "language": "python",
     "metadata": {},
     "outputs": [],
     "prompt_number": 3
    },
    {
     "cell_type": "code",
     "collapsed": false,
     "input": [],
     "language": "python",
     "metadata": {},
     "outputs": []
    },
    {
     "cell_type": "markdown",
     "metadata": {},
     "source": [
      "## The 5 most common Pandas commands to get you Started\n",
      "\n",
      "* read_csv\n",
      "* head\n",
      "* tail\n",
      "* describe\n",
      "* plot"
     ]
    },
    {
     "cell_type": "code",
     "collapsed": false,
     "input": [],
     "language": "python",
     "metadata": {},
     "outputs": []
    },
    {
     "cell_type": "markdown",
     "metadata": {},
     "source": [
      "## Read CSV: Introduction to Pandas IO read_csv"
     ]
    },
    {
     "cell_type": "code",
     "collapsed": false,
     "input": [],
     "language": "python",
     "metadata": {},
     "outputs": []
    },
    {
     "cell_type": "code",
     "collapsed": false,
     "input": [
      "#Uploading the dataset.\n",
      "avg_weather = pd.read_csv('avg_weather.csv', index_col='Month')"
     ],
     "language": "python",
     "metadata": {},
     "outputs": [],
     "prompt_number": 7
    },
    {
     "cell_type": "code",
     "collapsed": false,
     "input": [],
     "language": "python",
     "metadata": {},
     "outputs": []
    },
    {
     "cell_type": "markdown",
     "metadata": {},
     "source": [
      "## Head and Tail: Getting a Glimpse of Your Data\n",
      "\n",
      "When you are dealing with especially large datasets, sometimes it is hard to gain perspective of your dataset. Datasets can range from two rows to two million, and it is usually not especially illuminating to look at all two million rows at once. \n",
      "\n",
      "One way to deal with this problem is to use head, and tail. Head and tail is actually what it is in bash. Head allows you to see the first few rows, and tail displays the last rows.\n",
      "\n"
     ]
    },
    {
     "cell_type": "code",
     "collapsed": false,
     "input": [],
     "language": "python",
     "metadata": {},
     "outputs": []
    },
    {
     "cell_type": "code",
     "collapsed": false,
     "input": [
      "# First 5 rows\n",
      "avg_weather.head()"
     ],
     "language": "python",
     "metadata": {},
     "outputs": []
    },
    {
     "cell_type": "code",
     "collapsed": false,
     "input": [],
     "language": "python",
     "metadata": {},
     "outputs": []
    },
    {
     "cell_type": "code",
     "collapsed": false,
     "input": [
      "# Last 5 rows\n",
      "avg_weather.tail()"
     ],
     "language": "python",
     "metadata": {},
     "outputs": []
    },
    {
     "cell_type": "code",
     "collapsed": false,
     "input": [],
     "language": "python",
     "metadata": {},
     "outputs": []
    },
    {
     "cell_type": "markdown",
     "metadata": {},
     "source": [
      "## You can also put an argument into the head and tail function if you wish to see a specific number of rows. Displaying the first 10 values in your dataset"
     ]
    },
    {
     "cell_type": "code",
     "collapsed": false,
     "input": [],
     "language": "python",
     "metadata": {},
     "outputs": []
    },
    {
     "cell_type": "code",
     "collapsed": false,
     "input": [
      "avg_weather.head(10)"
     ],
     "language": "python",
     "metadata": {},
     "outputs": []
    },
    {
     "cell_type": "code",
     "collapsed": false,
     "input": [],
     "language": "python",
     "metadata": {},
     "outputs": []
    },
    {
     "cell_type": "markdown",
     "metadata": {},
     "source": [
      "## Describe: EDA\n",
      "\n",
      "An EDA is an exploratory data analysis. This means that you are performing summarizing the main characteristics of your dataset. An exploratory data analysis often helps you answer the basic questions of the dataset. For example is you are dealing with integers an EDA helps you answer questions such as what is the maximum value, what is the minimum, and what is the average. An exploratoy analysis sets the stage for asking more questions of your dataset."
     ]
    },
    {
     "cell_type": "code",
     "collapsed": false,
     "input": [],
     "language": "python",
     "metadata": {},
     "outputs": []
    },
    {
     "cell_type": "code",
     "collapsed": false,
     "input": [
      "avg_weather.describe()"
     ],
     "language": "python",
     "metadata": {},
     "outputs": []
    },
    {
     "cell_type": "code",
     "collapsed": false,
     "input": [],
     "language": "python",
     "metadata": {},
     "outputs": []
    },
    {
     "cell_type": "markdown",
     "metadata": {},
     "source": [
      "## Plot: Visualizations\n",
      "\n",
      "At this point in time matplotlib is the most widely used visualization package used in Python. Matplotlib integrates itself with Pandas using minimum code. We are going to use a simple example to demonstrate how to create a line graph comparing the average temperature of San Francisco and Portland. Matplotlib is flexible and there ways to customize color, axes, and Later on in the course we will use other visualization packages such as Bokeh, and Seaborn."
     ]
    },
    {
     "cell_type": "code",
     "collapsed": false,
     "input": [],
     "language": "python",
     "metadata": {},
     "outputs": []
    },
    {
     "cell_type": "code",
     "collapsed": false,
     "input": [
      "## Use Visualization to compare temperature of Portland and San Francisco\n",
      "avg_weather.plot()\n",
      "axis = plt.gca()\n",
      "axis.set_title('Average Temperature in Portland and San Fransico')\n",
      "axis.set_xlabel('Month')\n",
      "axis.set_ylabel('Termperature')\n",
      "plt.show()"
     ],
     "language": "python",
     "metadata": {},
     "outputs": []
    }
   ],
   "metadata": {}
  }
 ]
}