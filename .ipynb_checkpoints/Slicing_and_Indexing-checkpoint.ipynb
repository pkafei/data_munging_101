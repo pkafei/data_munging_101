{
 "metadata": {
  "signature": "sha256:c98fd32cf2509cad3cc83a2e7cb1c4f12d27905fd8a5b2611b013dd0cf613c44"
 },
 "nbformat": 3,
 "nbformat_minor": 0,
 "worksheets": [
  {
   "cells": [
    {
     "cell_type": "markdown",
     "metadata": {},
     "source": [
      "# Using Maryland's Employment Dataset We are Going to Select Data Using Slicing and Indexing"
     ]
    },
    {
     "cell_type": "code",
     "collapsed": false,
     "input": [],
     "language": "python",
     "metadata": {},
     "outputs": []
    },
    {
     "cell_type": "code",
     "collapsed": false,
     "input": [
      "## Import Pandas and other relevant packages. \n",
      "\n",
      "import pandas as pd # the pandas package\n",
      "import numpy as np"
     ],
     "language": "python",
     "metadata": {},
     "outputs": []
    },
    {
     "cell_type": "code",
     "collapsed": false,
     "input": [],
     "language": "python",
     "metadata": {},
     "outputs": []
    },
    {
     "cell_type": "code",
     "collapsed": false,
     "input": [
      "# Load the Maryland Employment data into a dataframe\n",
      "md_employment = pd.read_csv(\"Employment_Figures.csv\")"
     ],
     "language": "python",
     "metadata": {},
     "outputs": []
    },
    {
     "cell_type": "code",
     "collapsed": false,
     "input": [],
     "language": "python",
     "metadata": {},
     "outputs": []
    },
    {
     "cell_type": "markdown",
     "metadata": {},
     "source": [
      "## Introduction to Slicing and Indexing\n",
      "There are times when getting the last or first five rows in a table is not granular enough of a query. Indices and splhold axis information, such as column and row information. Learning how to manipulate indices are important when grabbing information stored in the datafame. In this section we are going to learn how to:\n",
      "\n",
      "* slice a dataframe\n",
      "* accessing the data by column name"
     ]
    },
    {
     "cell_type": "code",
     "collapsed": false,
     "input": [],
     "language": "python",
     "metadata": {},
     "outputs": []
    },
    {
     "cell_type": "code",
     "collapsed": false,
     "input": [
      "# Let's look at Maryland's Employment Data\n",
      "md_employment.head(10)"
     ],
     "language": "python",
     "metadata": {},
     "outputs": []
    },
    {
     "cell_type": "code",
     "collapsed": false,
     "input": [],
     "language": "python",
     "metadata": {},
     "outputs": []
    },
    {
     "cell_type": "markdown",
     "metadata": {},
     "source": [
      "## Accessing Rows"
     ]
    },
    {
     "cell_type": "code",
     "collapsed": false,
     "input": [
      "# Accessing the first 5 rows\n",
      "md_employment.ix[:5]"
     ],
     "language": "python",
     "metadata": {},
     "outputs": []
    },
    {
     "cell_type": "code",
     "collapsed": false,
     "input": [],
     "language": "python",
     "metadata": {},
     "outputs": []
    },
    {
     "cell_type": "markdown",
     "metadata": {},
     "source": [
      "## Accessing Columns"
     ]
    },
    {
     "cell_type": "code",
     "collapsed": false,
     "input": [
      "md_employment[[1]]"
     ],
     "language": "python",
     "metadata": {},
     "outputs": []
    },
    {
     "cell_type": "code",
     "collapsed": false,
     "input": [],
     "language": "python",
     "metadata": {},
     "outputs": []
    },
    {
     "cell_type": "markdown",
     "metadata": {},
     "source": [
      "## Accessing Columns Using Labels"
     ]
    },
    {
     "cell_type": "code",
     "collapsed": false,
     "input": [
      "md_employment[['Month']]"
     ],
     "language": "python",
     "metadata": {},
     "outputs": []
    },
    {
     "cell_type": "code",
     "collapsed": false,
     "input": [],
     "language": "python",
     "metadata": {},
     "outputs": []
    },
    {
     "cell_type": "markdown",
     "metadata": {},
     "source": [
      "## We can combine the Column names and Indexing rows"
     ]
    },
    {
     "cell_type": "code",
     "collapsed": false,
     "input": [
      "md_employment[['Month']][:12]"
     ],
     "language": "python",
     "metadata": {},
     "outputs": []
    },
    {
     "cell_type": "markdown",
     "metadata": {},
     "source": [
      "## Accessing Multiple Column Labels"
     ]
    },
    {
     "cell_type": "code",
     "collapsed": false,
     "input": [
      "# Let's only compare the National Unemployment Rate with Maryland's unemployment rate\n",
      "compare_employment = md_employment[['Year', 'Month', 'National Unemployment Rate', 'Maryland Unemployment Rate']]\n",
      "compare_employment"
     ],
     "language": "python",
     "metadata": {},
     "outputs": []
    }
   ],
   "metadata": {}
  }
 ]
}