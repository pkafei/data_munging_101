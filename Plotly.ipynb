{
 "metadata": {
  "name": "",
  "signature": "sha256:d1961156e8dbc3cc435371a1e779a19e97a496c5f41e45d7bdad793e3cd7faba"
 },
 "nbformat": 3,
 "nbformat_minor": 0,
 "worksheets": [
  {
   "cells": [
    {
     "cell_type": "markdown",
     "metadata": {},
     "source": [
      "# Plotly the Alternative to Matplotlib"
     ]
    },
    {
     "cell_type": "code",
     "collapsed": false,
     "input": [
      "# Hey there this is a tutorial is going to go over using Plotly in Jupyter "
     ],
     "language": "python",
     "metadata": {},
     "outputs": []
    },
    {
     "cell_type": "markdown",
     "metadata": {},
     "source": [
      "## HOWTO\n",
      "1. Go to Plotly and sign up for an account https://plot.ly/feed\n",
      "2. Navigate to your name and select settings/profile to obtain your API key\n"
     ]
    },
    {
     "cell_type": "code",
     "collapsed": false,
     "input": [
      "import pandas as pd\n",
      "import matplotlib.pyplot as plt\n",
      "import numpy as np\n",
      "from pylab import *\n",
      "import pylab as pl\n",
      "pd.set_option('display.width', 300)\n",
      "pd.set_option('display.max_columns', 300)"
     ],
     "language": "python",
     "metadata": {},
     "outputs": []
    },
    {
     "cell_type": "markdown",
     "metadata": {},
     "source": [
      "## Pandas\n",
      "1. Go to open secrets and download \n",
      "http://www.opensecrets.org/politicians/contrib.php?type=C&cid=N00007727&newMem=N&cycle=2014\n",
      "2. Upload open secrets to Pandas\n",
      "3. Select  columns\n",
      "    \n",
      "    "
     ]
    },
    {
     "cell_type": "markdown",
     "metadata": {},
     "source": [
      "## Putting politician information into a dataframe"
     ]
    },
    {
     "cell_type": "code",
     "collapsed": false,
     "input": [
      "contributors = pd.read_csv('blumenauer_data.csv')\n",
      "contributors"
     ],
     "language": "python",
     "metadata": {},
     "outputs": []
    },
    {
     "cell_type": "code",
     "collapsed": false,
     "input": [
      "## Query for the top ten donors of Earl Blumenauer\n",
      "#recession_employment = contributors.loc[contributors['totals'] == 2008]\n",
      "\n",
      "top_ten = contributors.sort(['totals'], ascending=False)[:10]\n",
      "top_ten\n",
      "\n",
      "#Create a new dataframe\n",
      "top_contributors = top_ten[['orgname', 'totals']]\n",
      "top_contributors"
     ],
     "language": "python",
     "metadata": {},
     "outputs": []
    },
    {
     "cell_type": "code",
     "collapsed": false,
     "input": [],
     "language": "python",
     "metadata": {},
     "outputs": []
    },
    {
     "cell_type": "markdown",
     "metadata": {},
     "source": [
      "## Matplotlib"
     ]
    },
    {
     "cell_type": "code",
     "collapsed": false,
     "input": [
      "%pylab inline\n",
      "\n",
      "top_contributors.plot(kind='Bar')"
     ],
     "language": "python",
     "metadata": {},
     "outputs": []
    },
    {
     "cell_type": "code",
     "collapsed": false,
     "input": [],
     "language": "python",
     "metadata": {},
     "outputs": []
    },
    {
     "cell_type": "markdown",
     "metadata": {},
     "source": [
      "## Great, it is now time to plot with Plotly"
     ]
    },
    {
     "cell_type": "code",
     "collapsed": false,
     "input": [],
     "language": "python",
     "metadata": {},
     "outputs": []
    },
    {
     "cell_type": "markdown",
     "metadata": {},
     "source": [
      "1. First import plotly\n",
      "2. Find your username, and API key\n"
     ]
    },
    {
     "cell_type": "code",
     "collapsed": false,
     "input": [
      "import plotly.plotly as py\n",
      "from plotly.graph_objs import *\n",
      "\n",
      "py.sign_in(\"porsh\", \"bjolm8bq82\")\n",
      "\n",
      "data = Data([\n",
      "    Bar(\n",
      "        x=['Cow Creek Band of Indians', 'American St/Cnty/Munic Employees','United Transportation Union', 'Amalgamated Transit Union', 'Int Brotherhood of Electrical Workers'],\n",
      "        y=[10200, 11000, 12500, 15000, 20000],\n",
      "        text=['Gave $100,000 locally and federally(2014)', 'Given $4,792,675 locally and federally(2014)', 'Given $1,055,500 locally and federally(2014)', 'Given $1626,200 locally and federally(2014)', 'Given $3,522,020 locally and federally(2014)'],\n",
      "        marker=Marker(\n",
      "            color='rgb(142, 124, 195)'\n",
      "        )\n",
      "    )\n",
      "])\n",
      "layout = Layout(\n",
      "    title='5 top donors of Oregon State Representative Earl Blumenauer',\n",
      "    font=Font(\n",
      "        family='Raleway, sans-serif'\n",
      "    ),\n",
      "    showlegend=False,\n",
      "    xaxis=XAxis(\n",
      "        tickangle=-45\n",
      "    ),\n",
      "    yaxis=YAxis(\n",
      "        zeroline=False,\n",
      "        gridwidth=2\n",
      "    ),\n",
      "    bargap=0.05\n",
      ")\n",
      "fig = Figure(data=data, layout=layout)\n",
      "\n",
      "plot_url = py.plot(fig, filename='bar-with-hover-text')"
     ],
     "language": "python",
     "metadata": {},
     "outputs": []
    },
    {
     "cell_type": "code",
     "collapsed": false,
     "input": [
      "The Final Product:\n",
      "    https://plot.ly/~porsh/1"
     ],
     "language": "python",
     "metadata": {},
     "outputs": []
    },
    {
     "cell_type": "code",
     "collapsed": false,
     "input": [
      "Sources:\n",
      "    https://www.opensecrets.org\n",
      "    \n",
      "    "
     ],
     "language": "python",
     "metadata": {},
     "outputs": []
    }
   ],
   "metadata": {}
  }
 ]
}