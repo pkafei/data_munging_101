{
 "metadata": {
  "name": "",
  "signature": "sha256:fd7a31ff30bb2da66d391c3dda3a989771dbce3ae2811d96070add154ce5f03d"
 },
 "nbformat": 3,
 "nbformat_minor": 0,
 "worksheets": [
  {
   "cells": [
    {
     "cell_type": "markdown",
     "metadata": {},
     "source": [
      "# What is Open Data and Where to Find it"
     ]
    },
    {
     "cell_type": "code",
     "collapsed": false,
     "input": [],
     "language": "python",
     "metadata": {},
     "outputs": []
    },
    {
     "cell_type": "markdown",
     "metadata": {},
     "source": [
      "## What is Open Data?\n",
      "* Open data is data that can be freely used and repurposed\n",
      "* The liscensing of open data is as diverse as in open source software\n",
      "* Open data can be and is often use for commercial business models (www.quandl.com)"
     ]
    },
    {
     "cell_type": "code",
     "collapsed": false,
     "input": [],
     "language": "python",
     "metadata": {},
     "outputs": []
    },
    {
     "cell_type": "markdown",
     "metadata": {},
     "source": [
      "## Licensing of Open Data \n",
      "\n",
      "* http://opendatacommons.org/licenses/odbl/summary/\n"
     ]
    },
    {
     "cell_type": "code",
     "collapsed": false,
     "input": [],
     "language": "python",
     "metadata": {},
     "outputs": []
    },
    {
     "cell_type": "code",
     "collapsed": false,
     "input": [],
     "language": "python",
     "metadata": {},
     "outputs": []
    },
    {
     "cell_type": "markdown",
     "metadata": {},
     "source": [
      "## What is Proprietary Data\n",
      "* As the name suggest it is proprietary, one pay for action\n",
      "* Credit card histories\n",
      "* Data that major companies collect about customer shopping habits (i.e. Walmart, Facebook)\n",
      "\n"
     ]
    },
    {
     "cell_type": "code",
     "collapsed": false,
     "input": [],
     "language": "python",
     "metadata": {},
     "outputs": []
    },
    {
     "cell_type": "markdown",
     "metadata": {},
     "source": [
      "## Different websites you can go to for open data\n",
      "\n",
      "* http://archive.ics.uci.edu/ml/ (machine learning dataset)\n",
      "* http://www.kaggle.com (machine learning datasets and competitions)\n",
      "* data.gov (civic data)\n",
      "* http://rs.io/2014/05/29/list-of-data-sets.html (general assortment of datasets)"
     ]
    }
   ],
   "metadata": {}
  }
 ]
}